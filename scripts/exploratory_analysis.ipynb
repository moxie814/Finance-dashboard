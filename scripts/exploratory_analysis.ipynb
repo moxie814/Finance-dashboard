{
 "cells": [
  {
   "cell_type": "code",
   "execution_count": null,
   "metadata": {},
   "outputs": [],
   "source": [
    "import pandas as pd\n",
    "\n",
    "%config Completer.use_jedi = False\n",
    "pd.set_option('display.max_columns', None)\n",
    "\n",
    "transactions = pd.read_csv(\"../data/transactions_list.csv\")\n",
    "\n",
    "print(transactions.head(20))\n",
    "print(transactions.dtypes)\n",
    "print(transactions.shape)"
   ]
  },
  {
   "cell_type": "code",
   "execution_count": null,
   "metadata": {},
   "outputs": [],
   "source": [
    "accounts_over_time = pd.read_csv(\"../data/analytics/accounts_over_time.csv\")\n",
    "\n",
    "print(accounts_over_time.tail(20))"
   ]
  },
  {
   "cell_type": "code",
   "execution_count": null,
   "metadata": {},
   "outputs": [],
   "source": [
    "net_worth = pd.read_csv(\"../data/analytics/net_worth_table.csv\")\n",
    "income_expenses = pd.read_csv(\"../data/analytics/income_expenses_table.csv\")\n",
    "\n",
    "print(net_worth.tail(20))\n",
    "print(net_worth.dtypes)\n",
    "print(income_expenses.head(20))\n",
    "print(income_expenses.dtypes)"
   ]
  },
  {
   "cell_type": "code",
   "execution_count": null,
   "metadata": {},
   "outputs": [],
   "source": [
    "wallet = pd.read_csv(\"../data/accounts/wallet.csv\")\n",
    "gcash = pd.read_csv(\"../data/accounts/gcash.csv\")\n",
    "\n",
    "print(wallet.head(20))\n",
    "print(wallet.dtypes)\n",
    "print(gcash.head(20))\n",
    "print(gcash.dtypes)\n"
   ]
  }
 ],
 "metadata": {
  "kernelspec": {
   "display_name": "venv",
   "language": "python",
   "name": "python3"
  },
  "language_info": {
   "codemirror_mode": {
    "name": "ipython",
    "version": 3
   },
   "file_extension": ".py",
   "mimetype": "text/x-python",
   "name": "python",
   "nbconvert_exporter": "python",
   "pygments_lexer": "ipython3",
   "version": "3.11.5"
  }
 },
 "nbformat": 4,
 "nbformat_minor": 2
}
